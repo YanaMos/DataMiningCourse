{
 "cells": [
  {
   "cell_type": "code",
   "execution_count": 90,
   "metadata": {},
   "outputs": [],
   "source": [
    "import pandas as pd\n",
    "from scipy import stats\n",
    "from statsmodels.formula.api import ols\n",
    "from statsmodels.stats.anova import anova_lm"
   ]
  },
  {
   "cell_type": "code",
   "execution_count": 70,
   "metadata": {},
   "outputs": [],
   "source": [
    "data = pd.read_csv('transactions1.txt', header = None, names=['date', 'time', 'id_product', 'price', 'count', 'sale', 'id_seller'])"
   ]
  },
  {
   "cell_type": "code",
   "execution_count": 71,
   "metadata": {},
   "outputs": [],
   "source": [
    "# new column if transaction is canceled\n",
    "def transaction_canceled(row):\n",
    "    if row[\"count\"] < 0:\n",
    "        return 1\n",
    "    else:\n",
    "        return 0"
   ]
  },
  {
   "cell_type": "code",
   "execution_count": 72,
   "metadata": {},
   "outputs": [],
   "source": [
    "data = data.assign(tran_canceled=data.apply(transaction_canceled, axis=1))"
   ]
  },
  {
   "cell_type": "code",
   "execution_count": 73,
   "metadata": {},
   "outputs": [
    {
     "data": {
      "text/html": [
       "<div>\n",
       "<style scoped>\n",
       "    .dataframe tbody tr th:only-of-type {\n",
       "        vertical-align: middle;\n",
       "    }\n",
       "\n",
       "    .dataframe tbody tr th {\n",
       "        vertical-align: top;\n",
       "    }\n",
       "\n",
       "    .dataframe thead th {\n",
       "        text-align: right;\n",
       "    }\n",
       "</style>\n",
       "<table border=\"1\" class=\"dataframe\">\n",
       "  <thead>\n",
       "    <tr style=\"text-align: right;\">\n",
       "      <th></th>\n",
       "      <th>date</th>\n",
       "      <th>time</th>\n",
       "      <th>id_product</th>\n",
       "      <th>price</th>\n",
       "      <th>count</th>\n",
       "      <th>sale</th>\n",
       "      <th>id_seller</th>\n",
       "    </tr>\n",
       "    <tr>\n",
       "      <th>tran_canceled</th>\n",
       "      <th></th>\n",
       "      <th></th>\n",
       "      <th></th>\n",
       "      <th></th>\n",
       "      <th></th>\n",
       "      <th></th>\n",
       "      <th></th>\n",
       "    </tr>\n",
       "  </thead>\n",
       "  <tbody>\n",
       "    <tr>\n",
       "      <th>0</th>\n",
       "      <td>1387</td>\n",
       "      <td>1387</td>\n",
       "      <td>1387</td>\n",
       "      <td>1387</td>\n",
       "      <td>1387</td>\n",
       "      <td>1387</td>\n",
       "      <td>1387</td>\n",
       "    </tr>\n",
       "    <tr>\n",
       "      <th>1</th>\n",
       "      <td>32</td>\n",
       "      <td>32</td>\n",
       "      <td>32</td>\n",
       "      <td>32</td>\n",
       "      <td>32</td>\n",
       "      <td>32</td>\n",
       "      <td>32</td>\n",
       "    </tr>\n",
       "  </tbody>\n",
       "</table>\n",
       "</div>"
      ],
      "text/plain": [
       "               date  time  id_product  price  count  sale  id_seller\n",
       "tran_canceled                                                       \n",
       "0              1387  1387        1387   1387   1387  1387       1387\n",
       "1                32    32          32     32     32    32         32"
      ]
     },
     "execution_count": 73,
     "metadata": {},
     "output_type": "execute_result"
    }
   ],
   "source": [
    "data.groupby('tran_canceled').count().sort_values('id_seller', ascending = False)"
   ]
  },
  {
   "cell_type": "code",
   "execution_count": 74,
   "metadata": {},
   "outputs": [],
   "source": [
    "transByDay = data.groupby(['date']).size().reset_index(name='counts')\n",
    "transByDayCanceled = data.groupby('date')['tran_canceled'].apply(lambda x: (x==1).sum()).reset_index(name='canceled_counts')"
   ]
  },
  {
   "cell_type": "code",
   "execution_count": 75,
   "metadata": {},
   "outputs": [],
   "source": [
    "dataAgg = pd.merge(transByDay, transByDayCanceled, how = 'inner', on=['date'])"
   ]
  },
  {
   "cell_type": "code",
   "execution_count": 76,
   "metadata": {},
   "outputs": [],
   "source": [
    "dataAgg['canceled_'] = round(dataAgg['canceled_counts']/dataAgg['counts'],2)"
   ]
  },
  {
   "cell_type": "code",
   "execution_count": 77,
   "metadata": {},
   "outputs": [],
   "source": [
    "dataset = pd.merge(data, dataAgg, how = 'inner', on=['date'])"
   ]
  },
  {
   "cell_type": "code",
   "execution_count": 78,
   "metadata": {},
   "outputs": [],
   "source": [
    "dataset['transaction_num'] = dataset.groupby('date').cumcount()"
   ]
  },
  {
   "cell_type": "code",
   "execution_count": 79,
   "metadata": {},
   "outputs": [],
   "source": [
    "dataset_first_trans = dataset[dataset['transaction_num']==0]"
   ]
  },
  {
   "cell_type": "code",
   "execution_count": 80,
   "metadata": {},
   "outputs": [
    {
     "data": {
      "text/html": [
       "<div>\n",
       "<style scoped>\n",
       "    .dataframe tbody tr th:only-of-type {\n",
       "        vertical-align: middle;\n",
       "    }\n",
       "\n",
       "    .dataframe tbody tr th {\n",
       "        vertical-align: top;\n",
       "    }\n",
       "\n",
       "    .dataframe thead th {\n",
       "        text-align: right;\n",
       "    }\n",
       "</style>\n",
       "<table border=\"1\" class=\"dataframe\">\n",
       "  <thead>\n",
       "    <tr style=\"text-align: right;\">\n",
       "      <th></th>\n",
       "      <th>date</th>\n",
       "      <th>time</th>\n",
       "      <th>id_product</th>\n",
       "      <th>price</th>\n",
       "      <th>count</th>\n",
       "      <th>sale</th>\n",
       "      <th>id_seller</th>\n",
       "      <th>tran_canceled</th>\n",
       "      <th>counts</th>\n",
       "      <th>canceled_counts</th>\n",
       "      <th>canceled_</th>\n",
       "      <th>transaction_num</th>\n",
       "    </tr>\n",
       "  </thead>\n",
       "  <tbody>\n",
       "    <tr>\n",
       "      <th>0</th>\n",
       "      <td>01/07/2010</td>\n",
       "      <td>09:40:15</td>\n",
       "      <td>ITEM1</td>\n",
       "      <td>50</td>\n",
       "      <td>3</td>\n",
       "      <td>150</td>\n",
       "      <td>SALES_PERSON1</td>\n",
       "      <td>0</td>\n",
       "      <td>22</td>\n",
       "      <td>1</td>\n",
       "      <td>0.05</td>\n",
       "      <td>0</td>\n",
       "    </tr>\n",
       "    <tr>\n",
       "      <th>22</th>\n",
       "      <td>02/07/2010</td>\n",
       "      <td>09:21:07</td>\n",
       "      <td>ITEM0</td>\n",
       "      <td>30</td>\n",
       "      <td>1</td>\n",
       "      <td>30</td>\n",
       "      <td>SALES_PERSON0</td>\n",
       "      <td>0</td>\n",
       "      <td>26</td>\n",
       "      <td>3</td>\n",
       "      <td>0.12</td>\n",
       "      <td>0</td>\n",
       "    </tr>\n",
       "    <tr>\n",
       "      <th>48</th>\n",
       "      <td>03/07/2010</td>\n",
       "      <td>09:52:40</td>\n",
       "      <td>ITEM1</td>\n",
       "      <td>50</td>\n",
       "      <td>2</td>\n",
       "      <td>100</td>\n",
       "      <td>SALES_PERSON1</td>\n",
       "      <td>0</td>\n",
       "      <td>26</td>\n",
       "      <td>0</td>\n",
       "      <td>0.00</td>\n",
       "      <td>0</td>\n",
       "    </tr>\n",
       "    <tr>\n",
       "      <th>74</th>\n",
       "      <td>04/07/2010</td>\n",
       "      <td>09:29:57</td>\n",
       "      <td>ITEM0</td>\n",
       "      <td>30</td>\n",
       "      <td>2</td>\n",
       "      <td>60</td>\n",
       "      <td>SALES_PERSON0</td>\n",
       "      <td>0</td>\n",
       "      <td>27</td>\n",
       "      <td>1</td>\n",
       "      <td>0.04</td>\n",
       "      <td>0</td>\n",
       "    </tr>\n",
       "    <tr>\n",
       "      <th>101</th>\n",
       "      <td>05/07/2010</td>\n",
       "      <td>10:22:10</td>\n",
       "      <td>ITEM1</td>\n",
       "      <td>50</td>\n",
       "      <td>3</td>\n",
       "      <td>150</td>\n",
       "      <td>SALES_PERSON1</td>\n",
       "      <td>0</td>\n",
       "      <td>20</td>\n",
       "      <td>1</td>\n",
       "      <td>0.05</td>\n",
       "      <td>0</td>\n",
       "    </tr>\n",
       "  </tbody>\n",
       "</table>\n",
       "</div>"
      ],
      "text/plain": [
       "           date      time id_product  price  count  sale      id_seller  \\\n",
       "0    01/07/2010  09:40:15      ITEM1     50      3   150  SALES_PERSON1   \n",
       "22   02/07/2010  09:21:07      ITEM0     30      1    30  SALES_PERSON0   \n",
       "48   03/07/2010  09:52:40      ITEM1     50      2   100  SALES_PERSON1   \n",
       "74   04/07/2010  09:29:57      ITEM0     30      2    60  SALES_PERSON0   \n",
       "101  05/07/2010  10:22:10      ITEM1     50      3   150  SALES_PERSON1   \n",
       "\n",
       "     tran_canceled  counts  canceled_counts  canceled_  transaction_num  \n",
       "0                0      22                1       0.05                0  \n",
       "22               0      26                3       0.12                0  \n",
       "48               0      26                0       0.00                0  \n",
       "74               0      27                1       0.04                0  \n",
       "101              0      20                1       0.05                0  "
      ]
     },
     "execution_count": 80,
     "metadata": {},
     "output_type": "execute_result"
    }
   ],
   "source": [
    "dataset_first_trans.head()"
   ]
  },
  {
   "cell_type": "code",
   "execution_count": 96,
   "metadata": {},
   "outputs": [
    {
     "name": "stderr",
     "output_type": "stream",
     "text": [
      "/Library/Frameworks/Python.framework/Versions/3.6/lib/python3.6/site-packages/ipykernel_launcher.py:1: SettingWithCopyWarning: \n",
      "A value is trying to be set on a copy of a slice from a DataFrame.\n",
      "Try using .loc[row_indexer,col_indexer] = value instead\n",
      "\n",
      "See the caveats in the documentation: http://pandas.pydata.org/pandas-docs/stable/indexing.html#indexing-view-versus-copy\n",
      "  \"\"\"Entry point for launching an IPython kernel.\n"
     ]
    }
   ],
   "source": [
    "dataset_first_trans['time_int'] = pd.to_numeric(dataset_first_trans.time.str.replace(':',''))"
   ]
  },
  {
   "cell_type": "code",
   "execution_count": 132,
   "metadata": {},
   "outputs": [
    {
     "data": {
      "text/html": [
       "<div>\n",
       "<style scoped>\n",
       "    .dataframe tbody tr th:only-of-type {\n",
       "        vertical-align: middle;\n",
       "    }\n",
       "\n",
       "    .dataframe tbody tr th {\n",
       "        vertical-align: top;\n",
       "    }\n",
       "\n",
       "    .dataframe thead th {\n",
       "        text-align: right;\n",
       "    }\n",
       "</style>\n",
       "<table border=\"1\" class=\"dataframe\">\n",
       "  <thead>\n",
       "    <tr style=\"text-align: right;\">\n",
       "      <th></th>\n",
       "      <th>price</th>\n",
       "      <th>count</th>\n",
       "      <th>sale</th>\n",
       "      <th>tran_canceled</th>\n",
       "      <th>counts</th>\n",
       "      <th>canceled_counts</th>\n",
       "      <th>canceled_</th>\n",
       "      <th>transaction_num</th>\n",
       "      <th>time_int</th>\n",
       "    </tr>\n",
       "  </thead>\n",
       "  <tbody>\n",
       "    <tr>\n",
       "      <th>count</th>\n",
       "      <td>62.000000</td>\n",
       "      <td>62.000000</td>\n",
       "      <td>62.000000</td>\n",
       "      <td>62.0</td>\n",
       "      <td>62.000000</td>\n",
       "      <td>62.000000</td>\n",
       "      <td>62.000000</td>\n",
       "      <td>62.0</td>\n",
       "      <td>62.000000</td>\n",
       "    </tr>\n",
       "    <tr>\n",
       "      <th>mean</th>\n",
       "      <td>40.322581</td>\n",
       "      <td>2.516129</td>\n",
       "      <td>100.645161</td>\n",
       "      <td>0.0</td>\n",
       "      <td>22.887097</td>\n",
       "      <td>0.516129</td>\n",
       "      <td>0.023387</td>\n",
       "      <td>0.0</td>\n",
       "      <td>95332.193548</td>\n",
       "    </tr>\n",
       "    <tr>\n",
       "      <th>std</th>\n",
       "      <td>10.076387</td>\n",
       "      <td>0.987495</td>\n",
       "      <td>47.421064</td>\n",
       "      <td>0.0</td>\n",
       "      <td>2.211037</td>\n",
       "      <td>0.882283</td>\n",
       "      <td>0.040039</td>\n",
       "      <td>0.0</td>\n",
       "      <td>3426.252433</td>\n",
       "    </tr>\n",
       "    <tr>\n",
       "      <th>min</th>\n",
       "      <td>30.000000</td>\n",
       "      <td>1.000000</td>\n",
       "      <td>30.000000</td>\n",
       "      <td>0.0</td>\n",
       "      <td>18.000000</td>\n",
       "      <td>0.000000</td>\n",
       "      <td>0.000000</td>\n",
       "      <td>0.0</td>\n",
       "      <td>90910.000000</td>\n",
       "    </tr>\n",
       "    <tr>\n",
       "      <th>25%</th>\n",
       "      <td>30.000000</td>\n",
       "      <td>2.000000</td>\n",
       "      <td>60.000000</td>\n",
       "      <td>0.0</td>\n",
       "      <td>22.000000</td>\n",
       "      <td>0.000000</td>\n",
       "      <td>0.000000</td>\n",
       "      <td>0.0</td>\n",
       "      <td>93030.250000</td>\n",
       "    </tr>\n",
       "    <tr>\n",
       "      <th>50%</th>\n",
       "      <td>50.000000</td>\n",
       "      <td>3.000000</td>\n",
       "      <td>90.000000</td>\n",
       "      <td>0.0</td>\n",
       "      <td>22.000000</td>\n",
       "      <td>0.000000</td>\n",
       "      <td>0.000000</td>\n",
       "      <td>0.0</td>\n",
       "      <td>94033.500000</td>\n",
       "    </tr>\n",
       "    <tr>\n",
       "      <th>75%</th>\n",
       "      <td>50.000000</td>\n",
       "      <td>3.000000</td>\n",
       "      <td>120.000000</td>\n",
       "      <td>0.0</td>\n",
       "      <td>24.750000</td>\n",
       "      <td>1.000000</td>\n",
       "      <td>0.040000</td>\n",
       "      <td>0.0</td>\n",
       "      <td>95839.250000</td>\n",
       "    </tr>\n",
       "    <tr>\n",
       "      <th>max</th>\n",
       "      <td>50.000000</td>\n",
       "      <td>4.000000</td>\n",
       "      <td>200.000000</td>\n",
       "      <td>0.0</td>\n",
       "      <td>27.000000</td>\n",
       "      <td>3.000000</td>\n",
       "      <td>0.140000</td>\n",
       "      <td>0.0</td>\n",
       "      <td>102307.000000</td>\n",
       "    </tr>\n",
       "  </tbody>\n",
       "</table>\n",
       "</div>"
      ],
      "text/plain": [
       "           price      count        sale  tran_canceled     counts  \\\n",
       "count  62.000000  62.000000   62.000000           62.0  62.000000   \n",
       "mean   40.322581   2.516129  100.645161            0.0  22.887097   \n",
       "std    10.076387   0.987495   47.421064            0.0   2.211037   \n",
       "min    30.000000   1.000000   30.000000            0.0  18.000000   \n",
       "25%    30.000000   2.000000   60.000000            0.0  22.000000   \n",
       "50%    50.000000   3.000000   90.000000            0.0  22.000000   \n",
       "75%    50.000000   3.000000  120.000000            0.0  24.750000   \n",
       "max    50.000000   4.000000  200.000000            0.0  27.000000   \n",
       "\n",
       "       canceled_counts  canceled_  transaction_num       time_int  \n",
       "count        62.000000  62.000000             62.0      62.000000  \n",
       "mean          0.516129   0.023387              0.0   95332.193548  \n",
       "std           0.882283   0.040039              0.0    3426.252433  \n",
       "min           0.000000   0.000000              0.0   90910.000000  \n",
       "25%           0.000000   0.000000              0.0   93030.250000  \n",
       "50%           0.000000   0.000000              0.0   94033.500000  \n",
       "75%           1.000000   0.040000              0.0   95839.250000  \n",
       "max           3.000000   0.140000              0.0  102307.000000  "
      ]
     },
     "execution_count": 132,
     "metadata": {},
     "output_type": "execute_result"
    }
   ],
   "source": [
    "dataset_first_trans.describe()"
   ]
  },
  {
   "cell_type": "code",
   "execution_count": 82,
   "metadata": {},
   "outputs": [
    {
     "name": "stdout",
     "output_type": "stream",
     "text": [
      "\n",
      "\n"
     ]
    },
    {
     "data": {
      "text/html": [
       "<div>\n",
       "<style scoped>\n",
       "    .dataframe tbody tr th:only-of-type {\n",
       "        vertical-align: middle;\n",
       "    }\n",
       "\n",
       "    .dataframe tbody tr th {\n",
       "        vertical-align: top;\n",
       "    }\n",
       "\n",
       "    .dataframe thead th {\n",
       "        text-align: right;\n",
       "    }\n",
       "</style>\n",
       "<table border=\"1\" class=\"dataframe\">\n",
       "  <thead>\n",
       "    <tr style=\"text-align: right;\">\n",
       "      <th></th>\n",
       "      <th>N</th>\n",
       "      <th>Mean</th>\n",
       "      <th>SD</th>\n",
       "      <th>SE</th>\n",
       "      <th>95% Conf.</th>\n",
       "      <th>Interval</th>\n",
       "    </tr>\n",
       "    <tr>\n",
       "      <th>id_seller</th>\n",
       "      <th></th>\n",
       "      <th></th>\n",
       "      <th></th>\n",
       "      <th></th>\n",
       "      <th></th>\n",
       "      <th></th>\n",
       "    </tr>\n",
       "  </thead>\n",
       "  <tbody>\n",
       "    <tr>\n",
       "      <th>SALES_PERSON0</th>\n",
       "      <td>31</td>\n",
       "      <td>0.040323</td>\n",
       "      <td>0.048750</td>\n",
       "      <td>0.008756</td>\n",
       "      <td>0.022878</td>\n",
       "      <td>0.057768</td>\n",
       "    </tr>\n",
       "    <tr>\n",
       "      <th>SALES_PERSON1</th>\n",
       "      <td>31</td>\n",
       "      <td>0.006452</td>\n",
       "      <td>0.017039</td>\n",
       "      <td>0.003060</td>\n",
       "      <td>0.000354</td>\n",
       "      <td>0.012549</td>\n",
       "    </tr>\n",
       "  </tbody>\n",
       "</table>\n",
       "</div>"
      ],
      "text/plain": [
       "                N      Mean        SD        SE  95% Conf.  Interval\n",
       "id_seller                                                           \n",
       "SALES_PERSON0  31  0.040323  0.048750  0.008756   0.022878  0.057768\n",
       "SALES_PERSON1  31  0.006452  0.017039  0.003060   0.000354  0.012549"
      ]
     },
     "execution_count": 82,
     "metadata": {},
     "output_type": "execute_result"
    }
   ],
   "source": [
    "rp.summary_cont(dataset_first_trans['canceled_'].groupby(dataset_first_trans['id_seller']))"
   ]
  },
  {
   "cell_type": "code",
   "execution_count": 127,
   "metadata": {},
   "outputs": [
    {
     "name": "stdout",
     "output_type": "stream",
     "text": [
      "                sum_sq    df         F    PR(>F)\n",
      "C(id_seller)  0.013246   1.0  9.796640  0.002718\n",
      "time_int      0.000233   1.0  0.172524  0.679385\n",
      "Residual      0.079773  59.0       NaN       NaN\n"
     ]
    }
   ],
   "source": [
    "#computing ANOVA table\n",
    "cw_lm=ols('canceled_ ~ time_int + C(id_seller)', data=dataset_first_trans).fit() #Specify C for Categorical\n",
    "print(sm.stats.anova_lm(cw_lm, typ=2))"
   ]
  },
  {
   "cell_type": "code",
   "execution_count": 131,
   "metadata": {},
   "outputs": [],
   "source": [
    "# ID_SELLRT - conclusion is that p < 0.05 means on an average the id_seller with cancelled % transactions ==> matters\n",
    "#TIME - conclusion is that p > 0.05 means on an average the time with cancelled % transactions ==> does not matter"
   ]
  }
 ],
 "metadata": {
  "kernelspec": {
   "display_name": "Python 3",
   "language": "python",
   "name": "python3"
  },
  "language_info": {
   "codemirror_mode": {
    "name": "ipython",
    "version": 3
   },
   "file_extension": ".py",
   "mimetype": "text/x-python",
   "name": "python",
   "nbconvert_exporter": "python",
   "pygments_lexer": "ipython3",
   "version": "3.6.4"
  }
 },
 "nbformat": 4,
 "nbformat_minor": 2
}
